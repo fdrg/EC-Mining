{
 "cells": [
  {
   "cell_type": "markdown",
   "metadata": {},
   "source": [
    "# Preparing EU Budget data\n",
    "This is a Jupyter project book where we are storing the code we have used to 'mine' interesting 5G project data using the EU budgets from 2015, 2016 and 2017.   \n",
    "At the the time of writing data for 2018 have not yet been published.   \n",
    "The first phase of 5G-PPP started in 2015, years 2015,2016 and 2017 will typically include most funding for approved/ongoing/completed projects.   \n",
    "We expect to find in the 2018 budget the data for 5G-PPP phase three.\n",
    "\n",
    "## Pre-requisites:\n",
    "In addition to the usual suspects (Python, Pandas, Numpy and matplotlib You will need to install xlrd for excel support.\n",
    "\n",
    "## Setup"
   ]
  },
  {
   "cell_type": "code",
   "execution_count": 1,
   "metadata": {},
   "outputs": [],
   "source": [
    "import pandas as     pd\n",
    "from   pandas import Series, DataFrame\n",
    "import numpy  as     np\n",
    "import matplotlib.pyplot as plt\n",
    "#import seaborn as sns\n",
    "#import xlrd"
   ]
  },
  {
   "cell_type": "code",
   "execution_count": 2,
   "metadata": {},
   "outputs": [],
   "source": [
    "#pd.set_option('display.height', 1000)\n",
    "#pd.set_option('display.max_colwidth', 1000)\n",
    "pd.set_option('display.max_rows',       20)\n",
    "pd.set_option('display.max_columns',    50)\n",
    "pd.set_option('display.width',        1000)\n",
    "pd.options.display.precision = 3\n",
    "pd.options.display.max_columns = None"
   ]
  },
  {
   "cell_type": "markdown",
   "metadata": {},
   "source": [
    "## Definitions\n",
    "For convenience we have gouped the budgets for years 2015, 2016 and 2017 in one single file, export_2015_2017.csv.\n",
    "We had to define column names, there seems to be some discrepancies in naming, order and even number of colums between the headers defined in the first line of the .csv files and the actual data.   \n",
    "All this may eventually be at some point described in a config file.  "
   ]
  },
  {
   "cell_type": "markdown",
   "metadata": {},
   "source": [
    "### Read data\n",
    "File is 'EU-Data/export_2015_2017.csv' which is simply a slightly edited concatenation of files where annual budgets have been dumped, years 2015 to 2017"
   ]
  },
  {
   "cell_type": "code",
   "execution_count": 15,
   "metadata": {},
   "outputs": [
    {
     "data": {
      "text/plain": [
       "Year                  int64\n",
       "Beneficiary          object\n",
       "Coordinator          object\n",
       "Type                 object\n",
       "VAT                  object\n",
       "Address              object\n",
       "City                 object\n",
       "Postal Code          object\n",
       "Country              object\n",
       "Amounts              object\n",
       "                      ...  \n",
       "Subject              object\n",
       "Department           object\n",
       "Budget Line          object\n",
       "Action Type          object\n",
       "Funding Type         object\n",
       "NUTS2                object\n",
       "LE Code              object\n",
       "LE Description       object\n",
       "h23                  object\n",
       "Geographical Zone    object\n",
       "Length: 24, dtype: object"
      ]
     },
     "execution_count": 15,
     "metadata": {},
     "output_type": "execute_result"
    }
   ],
   "source": [
    "# There are 24 columns:\n",
    "column_names_in = ['Year', 'Beneficiary', 'Coordinator', 'Type', 'VAT', 'Address', 'City', 'Postal Code', 'Country',\n",
    "                   'Amounts', 'Source', 'Expense Type', 'Amount', 'Key', 'Subject', 'Department', 'Budget Line',\n",
    "                   'Action Type','Funding Type','NUTS2','LE Code','LE Description','h23','Geographical Zone'\n",
    "                  ]\n",
    "# Drop these columns;\n",
    "unwanted_columns = ['Type', 'Expense Type', 'Source', 'LE Code', 'LE Description', 'h23']\n",
    "\n",
    "df = pd.read_csv('EU-Data/export_2018_en.csv', delimiter=',', skiprows = 1, thousands=',' , names = column_names_in\n",
    "                )\n",
    "\n",
    "df.drop(columns = unwanted_columns )\n",
    "#df.dtypes\n",
    "df.astype({'VAT': str}).dtypes\n",
    "df.dtypes\n",
    "\n",
    "#df.head(3)\n"
   ]
  },
  {
   "cell_type": "markdown",
   "metadata": {},
   "source": [
    "### Data cleaning\n",
    "Some fields are empty. Countries for instance have no VAT, no Postal Code, no Address...\n",
    "These are found as \"\" \"-\" or \"-;-\""
   ]
  },
  {
   "cell_type": "code",
   "execution_count": 25,
   "metadata": {},
   "outputs": [
    {
     "data": {
      "text/html": [
       "<div>\n",
       "<style scoped>\n",
       "    .dataframe tbody tr th:only-of-type {\n",
       "        vertical-align: middle;\n",
       "    }\n",
       "\n",
       "    .dataframe tbody tr th {\n",
       "        vertical-align: top;\n",
       "    }\n",
       "\n",
       "    .dataframe thead th {\n",
       "        text-align: right;\n",
       "    }\n",
       "</style>\n",
       "<table border=\"1\" class=\"dataframe\">\n",
       "  <thead>\n",
       "    <tr style=\"text-align: right;\">\n",
       "      <th></th>\n",
       "      <th>Year</th>\n",
       "      <th>Beneficiary</th>\n",
       "      <th>Coordinator</th>\n",
       "      <th>Type</th>\n",
       "      <th>VAT</th>\n",
       "      <th>Address</th>\n",
       "      <th>City</th>\n",
       "      <th>Postal Code</th>\n",
       "      <th>Country</th>\n",
       "      <th>Amounts</th>\n",
       "      <th>Source</th>\n",
       "      <th>Expense Type</th>\n",
       "      <th>Amount</th>\n",
       "      <th>Key</th>\n",
       "      <th>Subject</th>\n",
       "      <th>Department</th>\n",
       "      <th>Budget Line</th>\n",
       "      <th>Action Type</th>\n",
       "      <th>Funding Type</th>\n",
       "      <th>NUTS2</th>\n",
       "      <th>LE Code</th>\n",
       "      <th>LE Description</th>\n",
       "      <th>h23</th>\n",
       "      <th>Geographical Zone</th>\n",
       "    </tr>\n",
       "  </thead>\n",
       "  <tbody>\n",
       "    <tr>\n",
       "      <th>0</th>\n",
       "      <td>2018</td>\n",
       "      <td>NaN</td>\n",
       "      <td>NaN</td>\n",
       "      <td>NaN</td>\n",
       "      <td>nan</td>\n",
       "      <td>[-]</td>\n",
       "      <td>NaN</td>\n",
       "      <td>NaN</td>\n",
       "      <td>[Turkey]</td>\n",
       "      <td>NaN</td>\n",
       "      <td>Turkey</td>\n",
       "      <td>Operational</td>\n",
       "      <td>4.000e+08</td>\n",
       "      <td>SCR.CTR.403554.01.1</td>\n",
       "      <td>PROMOTING INTEGRATION OF SYRIAN KIDS INTO THE ...</td>\n",
       "      <td>Directorate-General for Neighbourhood and Enla...</td>\n",
       "      <td>Support for economic, social and territorial ...</td>\n",
       "      <td>4.0.1 - Instrument for Pre-accession assistanc...</td>\n",
       "      <td>Grants</td>\n",
       "      <td>NaN</td>\n",
       "      <td>LE02</td>\n",
       "      <td>The total amount of the commitment was attribu...</td>\n",
       "      <td>SCR.LCM.403554.01</td>\n",
       "      <td>Other country</td>\n",
       "    </tr>\n",
       "    <tr>\n",
       "      <th>1</th>\n",
       "      <td>2018</td>\n",
       "      <td>NaN</td>\n",
       "      <td>NaN</td>\n",
       "      <td>;</td>\n",
       "      <td>nan</td>\n",
       "      <td>[-, -]</td>\n",
       "      <td>[, ]</td>\n",
       "      <td>;</td>\n",
       "      <td>[Italy, Austria]</td>\n",
       "      <td>NaN</td>\n",
       "      <td>NaN</td>\n",
       "      <td>Operational</td>\n",
       "      <td>1.787e+08</td>\n",
       "      <td>SI2.717221.4</td>\n",
       "      <td>2014-EU-TM-0190-W - INEA/CEF/TRAN/M2014/103236...</td>\n",
       "      <td>Innovation and Networks Executive Agency</td>\n",
       "      <td>Removing bottlenecks, enhancing rail interope...</td>\n",
       "      <td>1.1.82 - Transport</td>\n",
       "      <td>Grants</td>\n",
       "      <td>NaN</td>\n",
       "      <td>'SI2.304580';</td>\n",
       "      <td>An estimated repartition for each recipient wa...</td>\n",
       "      <td>LE01;LE01</td>\n",
       "      <td>EU member country;EU member country</td>\n",
       "    </tr>\n",
       "    <tr>\n",
       "      <th>2</th>\n",
       "      <td>2018</td>\n",
       "      <td>NaN</td>\n",
       "      <td>NaN</td>\n",
       "      <td>;</td>\n",
       "      <td>nan</td>\n",
       "      <td>[-, -]</td>\n",
       "      <td>[, ]</td>\n",
       "      <td>;</td>\n",
       "      <td>[Italy, Austria]</td>\n",
       "      <td>NaN</td>\n",
       "      <td>NaN</td>\n",
       "      <td>Operational</td>\n",
       "      <td>1.731e+08</td>\n",
       "      <td>SI2.717221.5</td>\n",
       "      <td>2014-EU-TM-0190-W - INEA/CEF/TRAN/M2014/103236...</td>\n",
       "      <td>Innovation and Networks Executive Agency</td>\n",
       "      <td>Removing bottlenecks, enhancing rail interope...</td>\n",
       "      <td>1.1.82 - Transport</td>\n",
       "      <td>Grants</td>\n",
       "      <td>NaN</td>\n",
       "      <td>'SI2.304580';</td>\n",
       "      <td>An estimated repartition for each recipient wa...</td>\n",
       "      <td>LE01;LE01</td>\n",
       "      <td>EU member country;EU member country</td>\n",
       "    </tr>\n",
       "    <tr>\n",
       "      <th>3</th>\n",
       "      <td>2018</td>\n",
       "      <td>NaN</td>\n",
       "      <td>NaN</td>\n",
       "      <td>NaN</td>\n",
       "      <td>nan</td>\n",
       "      <td>[-]</td>\n",
       "      <td>NaN</td>\n",
       "      <td>NaN</td>\n",
       "      <td>[Bangladesh]</td>\n",
       "      <td>NaN</td>\n",
       "      <td>Bangladesh</td>\n",
       "      <td>Operational</td>\n",
       "      <td>1.640e+08</td>\n",
       "      <td>SCR.CTR.404409.01.1</td>\n",
       "      <td>SECTOR BUDGET SUPPORT FOR HUMAN CAPITAL DEVELO...</td>\n",
       "      <td>Directorate-General for International Cooperat...</td>\n",
       "      <td>Cooperation with Asia</td>\n",
       "      <td>4.0.3 - Development Cooperation Instrument (DCI)</td>\n",
       "      <td>Budget support</td>\n",
       "      <td>NaN</td>\n",
       "      <td>LE02</td>\n",
       "      <td>The total amount of the commitment was attribu...</td>\n",
       "      <td>SCR.LCM.404409.01</td>\n",
       "      <td>Other country</td>\n",
       "    </tr>\n",
       "    <tr>\n",
       "      <th>4</th>\n",
       "      <td>2018</td>\n",
       "      <td>NaN</td>\n",
       "      <td>NaN</td>\n",
       "      <td>NaN</td>\n",
       "      <td>nan</td>\n",
       "      <td>[BLVD DINICU GOLESCU 38 SECTOR 1]</td>\n",
       "      <td>[010873]</td>\n",
       "      <td>010873</td>\n",
       "      <td>[Romania]</td>\n",
       "      <td>NaN</td>\n",
       "      <td>NaN</td>\n",
       "      <td>Operational</td>\n",
       "      <td>1.355e+08</td>\n",
       "      <td>SI2.715960.3</td>\n",
       "      <td>THE REHABILITATION OF THE BRASOV  SIMERIA RAI...</td>\n",
       "      <td>Innovation and Networks Executive Agency</td>\n",
       "      <td>Connecting Europe Facility (CEF) —Cohesion Fu...</td>\n",
       "      <td>1.2.6 - Contribution to the Connecting Europe ...</td>\n",
       "      <td>Grants</td>\n",
       "      <td>NaN</td>\n",
       "      <td>LE05</td>\n",
       "      <td>The total amount of the commitment was attribu...</td>\n",
       "      <td>SI2.302199</td>\n",
       "      <td>Private company</td>\n",
       "    </tr>\n",
       "  </tbody>\n",
       "</table>\n",
       "</div>"
      ],
      "text/plain": [
       "   Year  Beneficiary  Coordinator Type  VAT                            Address      City Postal Code           Country  Amounts      Source Expense Type     Amount                  Key                                            Subject                                         Department                                        Budget Line                                        Action Type    Funding Type NUTS2        LE Code                                     LE Description                h23                    Geographical Zone\n",
       "0  2018          NaN          NaN  NaN  nan                                [-]       NaN         NaN          [Turkey]      NaN      Turkey  Operational  4.000e+08  SCR.CTR.403554.01.1  PROMOTING INTEGRATION OF SYRIAN KIDS INTO THE ...  Directorate-General for Neighbourhood and Enla...   Support for economic, social and territorial ...  4.0.1 - Instrument for Pre-accession assistanc...          Grants   NaN           LE02  The total amount of the commitment was attribu...  SCR.LCM.403554.01                        Other country\n",
       "1  2018          NaN          NaN    ;  nan                             [-, -]      [, ]           ;  [Italy, Austria]      NaN         NaN  Operational  1.787e+08         SI2.717221.4  2014-EU-TM-0190-W - INEA/CEF/TRAN/M2014/103236...           Innovation and Networks Executive Agency   Removing bottlenecks, enhancing rail interope...                                 1.1.82 - Transport          Grants   NaN  'SI2.304580';  An estimated repartition for each recipient wa...          LE01;LE01  EU member country;EU member country\n",
       "2  2018          NaN          NaN    ;  nan                             [-, -]      [, ]           ;  [Italy, Austria]      NaN         NaN  Operational  1.731e+08         SI2.717221.5  2014-EU-TM-0190-W - INEA/CEF/TRAN/M2014/103236...           Innovation and Networks Executive Agency   Removing bottlenecks, enhancing rail interope...                                 1.1.82 - Transport          Grants   NaN  'SI2.304580';  An estimated repartition for each recipient wa...          LE01;LE01  EU member country;EU member country\n",
       "3  2018          NaN          NaN  NaN  nan                                [-]       NaN         NaN      [Bangladesh]      NaN  Bangladesh  Operational  1.640e+08  SCR.CTR.404409.01.1  SECTOR BUDGET SUPPORT FOR HUMAN CAPITAL DEVELO...  Directorate-General for International Cooperat...                              Cooperation with Asia   4.0.3 - Development Cooperation Instrument (DCI)  Budget support   NaN           LE02  The total amount of the commitment was attribu...  SCR.LCM.404409.01                        Other country\n",
       "4  2018          NaN          NaN  NaN  nan  [BLVD DINICU GOLESCU 38 SECTOR 1]  [010873]      010873         [Romania]      NaN         NaN  Operational  1.355e+08         SI2.715960.3  THE REHABILITATION OF THE BRASOV  SIMERIA RAI...           Innovation and Networks Executive Agency   Connecting Europe Facility (CEF) —Cohesion Fu...  1.2.6 - Contribution to the Connecting Europe ...          Grants   NaN           LE05  The total amount of the commitment was attribu...         SI2.302199                      Private company"
      ]
     },
     "execution_count": 25,
     "metadata": {},
     "output_type": "execute_result"
    }
   ],
   "source": [
    "df['VAT']=df['VAT'].astype(str).str.replace(\"-\",'NaN')\n",
    "#df['a'].astype(str).str.replace(\"5\", \" hi \")\n",
    "\n",
    "df.head()"
   ]
  },
  {
   "cell_type": "code",
   "execution_count": 22,
   "metadata": {},
   "outputs": [
    {
     "ename": "AttributeError",
     "evalue": "Can only use .str accessor with string values, which use np.object_ dtype in pandas",
     "output_type": "error",
     "traceback": [
      "\u001b[0;31m---------------------------------------------------------------------------\u001b[0m",
      "\u001b[0;31mAttributeError\u001b[0m                            Traceback (most recent call last)",
      "\u001b[0;32m<ipython-input-22-a14a72f93901>\u001b[0m in \u001b[0;36m<module>\u001b[0;34m\u001b[0m\n\u001b[1;32m      2\u001b[0m \u001b[0mdf\u001b[0m\u001b[0;34m[\u001b[0m\u001b[0;34m'Amounts'\u001b[0m\u001b[0;34m]\u001b[0m     \u001b[0;34m=\u001b[0m \u001b[0mdf\u001b[0m\u001b[0;34m[\u001b[0m\u001b[0;34m'Amounts'\u001b[0m\u001b[0;34m]\u001b[0m\u001b[0;34m.\u001b[0m\u001b[0mstr\u001b[0m\u001b[0;34m.\u001b[0m\u001b[0msplit\u001b[0m\u001b[0;34m(\u001b[0m\u001b[0;34m\";\"\u001b[0m\u001b[0;34m)\u001b[0m\u001b[0;34m\u001b[0m\u001b[0;34m\u001b[0m\u001b[0m\n\u001b[1;32m      3\u001b[0m \u001b[0mdf\u001b[0m\u001b[0;34m[\u001b[0m\u001b[0;34m'Coordinator'\u001b[0m\u001b[0;34m]\u001b[0m \u001b[0;34m=\u001b[0m \u001b[0mdf\u001b[0m\u001b[0;34m[\u001b[0m\u001b[0;34m'Coordinator'\u001b[0m\u001b[0;34m]\u001b[0m\u001b[0;34m.\u001b[0m\u001b[0mstr\u001b[0m\u001b[0;34m.\u001b[0m\u001b[0msplit\u001b[0m\u001b[0;34m(\u001b[0m\u001b[0;34m\";\"\u001b[0m\u001b[0;34m)\u001b[0m\u001b[0;34m\u001b[0m\u001b[0;34m\u001b[0m\u001b[0m\n\u001b[0;32m----> 4\u001b[0;31m \u001b[0mdf\u001b[0m\u001b[0;34m[\u001b[0m\u001b[0;34m'VAT'\u001b[0m\u001b[0;34m]\u001b[0m         \u001b[0;34m=\u001b[0m \u001b[0mdf\u001b[0m\u001b[0;34m[\u001b[0m\u001b[0;34m'VAT'\u001b[0m\u001b[0;34m]\u001b[0m\u001b[0;34m.\u001b[0m\u001b[0mstr\u001b[0m\u001b[0;34m.\u001b[0m\u001b[0msplit\u001b[0m\u001b[0;34m(\u001b[0m\u001b[0;34m\";\"\u001b[0m\u001b[0;34m)\u001b[0m\u001b[0;34m\u001b[0m\u001b[0;34m\u001b[0m\u001b[0m\n\u001b[0m\u001b[1;32m      5\u001b[0m \u001b[0mdf\u001b[0m\u001b[0;34m[\u001b[0m\u001b[0;34m'Address'\u001b[0m\u001b[0;34m]\u001b[0m     \u001b[0;34m=\u001b[0m \u001b[0mdf\u001b[0m\u001b[0;34m[\u001b[0m\u001b[0;34m'Address'\u001b[0m\u001b[0;34m]\u001b[0m\u001b[0;34m.\u001b[0m\u001b[0mstr\u001b[0m\u001b[0;34m.\u001b[0m\u001b[0msplit\u001b[0m\u001b[0;34m(\u001b[0m\u001b[0;34m\";\"\u001b[0m\u001b[0;34m)\u001b[0m\u001b[0;34m\u001b[0m\u001b[0;34m\u001b[0m\u001b[0m\n\u001b[1;32m      6\u001b[0m \u001b[0mdf\u001b[0m\u001b[0;34m[\u001b[0m\u001b[0;34m'City'\u001b[0m\u001b[0;34m]\u001b[0m        \u001b[0;34m=\u001b[0m \u001b[0mdf\u001b[0m\u001b[0;34m[\u001b[0m\u001b[0;34m'Postal Code'\u001b[0m\u001b[0;34m]\u001b[0m\u001b[0;34m.\u001b[0m\u001b[0mstr\u001b[0m\u001b[0;34m.\u001b[0m\u001b[0msplit\u001b[0m\u001b[0;34m(\u001b[0m\u001b[0;34m\";\"\u001b[0m\u001b[0;34m)\u001b[0m\u001b[0;34m\u001b[0m\u001b[0;34m\u001b[0m\u001b[0m\n",
      "\u001b[0;32m/usr/local/lib/python3.7/site-packages/pandas/core/generic.py\u001b[0m in \u001b[0;36m__getattr__\u001b[0;34m(self, name)\u001b[0m\n\u001b[1;32m   5051\u001b[0m         if (name in self._internal_names_set or name in self._metadata or\n\u001b[1;32m   5052\u001b[0m                 name in self._accessors):\n\u001b[0;32m-> 5053\u001b[0;31m             \u001b[0;32mreturn\u001b[0m \u001b[0mobject\u001b[0m\u001b[0;34m.\u001b[0m\u001b[0m__getattribute__\u001b[0m\u001b[0;34m(\u001b[0m\u001b[0mself\u001b[0m\u001b[0;34m,\u001b[0m \u001b[0mname\u001b[0m\u001b[0;34m)\u001b[0m\u001b[0;34m\u001b[0m\u001b[0;34m\u001b[0m\u001b[0m\n\u001b[0m\u001b[1;32m   5054\u001b[0m         \u001b[0;32melse\u001b[0m\u001b[0;34m:\u001b[0m\u001b[0;34m\u001b[0m\u001b[0;34m\u001b[0m\u001b[0m\n\u001b[1;32m   5055\u001b[0m             \u001b[0;32mif\u001b[0m \u001b[0mself\u001b[0m\u001b[0;34m.\u001b[0m\u001b[0m_info_axis\u001b[0m\u001b[0;34m.\u001b[0m\u001b[0m_can_hold_identifiers_and_holds_name\u001b[0m\u001b[0;34m(\u001b[0m\u001b[0mname\u001b[0m\u001b[0;34m)\u001b[0m\u001b[0;34m:\u001b[0m\u001b[0;34m\u001b[0m\u001b[0;34m\u001b[0m\u001b[0m\n",
      "\u001b[0;32m/usr/local/lib/python3.7/site-packages/pandas/core/accessor.py\u001b[0m in \u001b[0;36m__get__\u001b[0;34m(self, obj, cls)\u001b[0m\n\u001b[1;32m    169\u001b[0m             \u001b[0;31m# we're accessing the attribute of the class, i.e., Dataset.geo\u001b[0m\u001b[0;34m\u001b[0m\u001b[0;34m\u001b[0m\u001b[0;34m\u001b[0m\u001b[0m\n\u001b[1;32m    170\u001b[0m             \u001b[0;32mreturn\u001b[0m \u001b[0mself\u001b[0m\u001b[0;34m.\u001b[0m\u001b[0m_accessor\u001b[0m\u001b[0;34m\u001b[0m\u001b[0;34m\u001b[0m\u001b[0m\n\u001b[0;32m--> 171\u001b[0;31m         \u001b[0maccessor_obj\u001b[0m \u001b[0;34m=\u001b[0m \u001b[0mself\u001b[0m\u001b[0;34m.\u001b[0m\u001b[0m_accessor\u001b[0m\u001b[0;34m(\u001b[0m\u001b[0mobj\u001b[0m\u001b[0;34m)\u001b[0m\u001b[0;34m\u001b[0m\u001b[0;34m\u001b[0m\u001b[0m\n\u001b[0m\u001b[1;32m    172\u001b[0m         \u001b[0;31m# Replace the property with the accessor object. Inspired by:\u001b[0m\u001b[0;34m\u001b[0m\u001b[0;34m\u001b[0m\u001b[0;34m\u001b[0m\u001b[0m\n\u001b[1;32m    173\u001b[0m         \u001b[0;31m# http://www.pydanny.com/cached-property.html\u001b[0m\u001b[0;34m\u001b[0m\u001b[0;34m\u001b[0m\u001b[0;34m\u001b[0m\u001b[0m\n",
      "\u001b[0;32m/usr/local/lib/python3.7/site-packages/pandas/core/strings.py\u001b[0m in \u001b[0;36m__init__\u001b[0;34m(self, data)\u001b[0m\n\u001b[1;32m   1794\u001b[0m \u001b[0;34m\u001b[0m\u001b[0m\n\u001b[1;32m   1795\u001b[0m     \u001b[0;32mdef\u001b[0m \u001b[0m__init__\u001b[0m\u001b[0;34m(\u001b[0m\u001b[0mself\u001b[0m\u001b[0;34m,\u001b[0m \u001b[0mdata\u001b[0m\u001b[0;34m)\u001b[0m\u001b[0;34m:\u001b[0m\u001b[0;34m\u001b[0m\u001b[0;34m\u001b[0m\u001b[0m\n\u001b[0;32m-> 1796\u001b[0;31m         \u001b[0mself\u001b[0m\u001b[0;34m.\u001b[0m\u001b[0m_validate\u001b[0m\u001b[0;34m(\u001b[0m\u001b[0mdata\u001b[0m\u001b[0;34m)\u001b[0m\u001b[0;34m\u001b[0m\u001b[0;34m\u001b[0m\u001b[0m\n\u001b[0m\u001b[1;32m   1797\u001b[0m         \u001b[0mself\u001b[0m\u001b[0;34m.\u001b[0m\u001b[0m_is_categorical\u001b[0m \u001b[0;34m=\u001b[0m \u001b[0mis_categorical_dtype\u001b[0m\u001b[0;34m(\u001b[0m\u001b[0mdata\u001b[0m\u001b[0;34m)\u001b[0m\u001b[0;34m\u001b[0m\u001b[0;34m\u001b[0m\u001b[0m\n\u001b[1;32m   1798\u001b[0m \u001b[0;34m\u001b[0m\u001b[0m\n",
      "\u001b[0;32m/usr/local/lib/python3.7/site-packages/pandas/core/strings.py\u001b[0m in \u001b[0;36m_validate\u001b[0;34m(data)\u001b[0m\n\u001b[1;32m   1816\u001b[0m             \u001b[0;31m# (instead of test for object dtype), but that isn't practical for\u001b[0m\u001b[0;34m\u001b[0m\u001b[0;34m\u001b[0m\u001b[0;34m\u001b[0m\u001b[0m\n\u001b[1;32m   1817\u001b[0m             \u001b[0;31m# performance reasons until we have a str dtype (GH 9343)\u001b[0m\u001b[0;34m\u001b[0m\u001b[0;34m\u001b[0m\u001b[0;34m\u001b[0m\u001b[0m\n\u001b[0;32m-> 1818\u001b[0;31m             raise AttributeError(\"Can only use .str accessor with string \"\n\u001b[0m\u001b[1;32m   1819\u001b[0m                                  \u001b[0;34m\"values, which use np.object_ dtype in \"\u001b[0m\u001b[0;34m\u001b[0m\u001b[0;34m\u001b[0m\u001b[0m\n\u001b[1;32m   1820\u001b[0m                                  \"pandas\")\n",
      "\u001b[0;31mAttributeError\u001b[0m: Can only use .str accessor with string values, which use np.object_ dtype in pandas"
     ]
    }
   ],
   "source": [
    "df['Beneficiary'] = df['Beneficiary'].str.split(\";\")\n",
    "df['Amounts']     = df['Amounts'].str.split(\";\")\n",
    "df['Coordinator'] = df['Coordinator'].str.split(\";\")\n",
    "df['VAT']         = df['VAT'].str.split(\";\")\n",
    "df['Address']     = df['Address'].str.split(\";\")\n",
    "df['City']        = df['Postal Code'].str.split(\";\")\n",
    "df['Country']     = df['Country'].str.split(\";\")\n",
    "\n",
    "df.head(3)       "
   ]
  },
  {
   "cell_type": "code",
   "execution_count": 10,
   "metadata": {},
   "outputs": [],
   "source": [
    "with open('Beneficiary.txt', 'w') as f:\n",
    "    print(df['Beneficiary'], file=f)\n",
    "\n",
    "with open(\"SplitBudget.csv\", \"w\") as f:\n",
    "     for row_index, row in df.iterrows():\n",
    "         for entity_index, entity in enumerate(row['Beneficiary']):\n",
    "             print (row['Year'],\n",
    "                    entity,\n",
    "                    row['Country'][entity_index],\n",
    "                    row['Amounts'][entity_index],\n",
    "                    row['Coordinator'][entity_index],\n",
    "                    #row['VAT'][entity_index],\n",
    "                    row['Address'][entity_index],\n",
    "                    #row['Postal Code'][entity_index],\n",
    "                    sep=', ',\n",
    "                    file=f\n",
    "                   )"
   ]
  },
  {
   "cell_type": "code",
   "execution_count": null,
   "metadata": {
    "scrolled": true
   },
   "outputs": [],
   "source": [
    "#Read data:\n",
    "#quotechar='\"'\n",
    "df = pd.read_csv('EU-Data/export_2015_2018.csv', delimiter=',', skiprows = 1, thousands=',' , names = column_names)\n",
    "# Find duplicate rows:\n",
    "DuplicateSearchColumns = ['Year', 'Beneficiary', 'VAT', 'Address', 'City', 'Postal Code', 'Country',\n",
    "                          'Subject', 'Department', 'Budget Line',\n",
    "                          'Action Type','Funding Type','NUTS2','LE Code','LE Description','h23','Geographical Zone'\n",
    "                         ]\n",
    "DuplicateRowsDF = df.duplicate(DuplicateSearch)\n"
   ]
  },
  {
   "cell_type": "code",
   "execution_count": null,
   "metadata": {},
   "outputs": [],
   "source": [
    "# 5G project directory, implemented as a Python dictionary, grant agreement code as key and acronym\n",
    "projects5g = {\n",
    "             '671517': 'SONATA',         '671551': '5G-XHAUL',      '671562': '5G-ENSURE',\n",
    "             '671563': 'FLEX5GWARE',     '671566': 'SUPERFLUIDITY', '671584': '5G NORMA',\n",
    "             '671596': 'SESAME',         '671598': 'XHAUL',         '671617': 'EURO-5G',\n",
    "             '671625': 'COGNET',         '671636': '5G-EXCHANGE',   '671636': '5GEX',\n",
    "             '671639': 'COHERENT',       '671648': 'VIRTUWIND',     '671650': 'MMMAGIC',\n",
    "             '671660': 'FANTASTIC-5G',   '671672': 'SELFNET',       '671680': 'METIS-II',\n",
    "             '671704': 'CHARISMA',       '671705': 'SPEED-5G',      '675806': '5G-AURA',\n",
    "             '688712': 'TRIANGLE',       '700044': 'MASSLOC',       '704947': 'ADVANTAG5',\n",
    "             '722429': '5G STEP FWD',    '723171': '5G MIEDGE',     '723172': '5GPAGODA',\n",
    "             '723227': 'EXCITING',       '723247': '5G CHAMPION',   '732497': '5GINFIRE',\n",
    "             '760809': 'ONE5G',          '761338': 'TO-EURO-5G',    '761390': 'DREAM',\n",
    "             '761413': 'SAT5G',          '761445': '5G-MONARCH',    '761493': '5GTANGO',\n",
    "             '761498': '5G-XCAST',       '761508': '5GCITY',        '761510': '5GCAR',\n",
    "             '761536': '5G-TRANSFORMER', '761586': '5G-CORAL',      '761592': '5G ESSENCE',\n",
    "             '761699': '5G-MEDIA',       '761727': 'METRO-HAUL',    '761745': 'CLEAR5G',\n",
    "             '761794': 'TERRANOVA',      '761816': 'GLOBAL5G.ORG',  '761898': 'MATILDA',\n",
    "             '761913': 'SLICENET',       '761989': '5G-PHOS',       '762013': 'NRG-5',\n",
    "             '762055': 'BLUESPACE',      '762057': '5G-PICTURE',    '762106': 'PURE',\n",
    "             '777137': '5GRANGE',\n",
    "# 3G-PPP Phase 3, Type 1, Infrastructure\n",
    "             '815074': '5G EVE',         '815279': '5G-VINNI',      '815178': '5GENESIS',  \n",
    "# 3G-PPP Phase 3, Type 2, Automotive    \n",
    "             '825012': '5G-CARMEN',      '825050': '5GCroCo',       '825496': '5G-MOBIX'\n",
    "# 3G-PPP Phase 3, Type 3, Validation   \n",
    "             '825012': '5GSolutions',      '825050': '5GCroCo',       '825496': '5G-MOBIX'\n",
    "             }\n",
    "# Keeping only 5G projects \n",
    "df = df[df['Subject'].str.contains('|'.join(projects5g.keys()))]\n",
    "df.drop(columns=['Type', 'Expense Type', 'Source', 'Funding Type', 'LE Code', 'NUTS2', 'LE Description', 'h23'])\n",
    "\n",
    "print(\"Found\", len(df.index), \"out of \", len(projects5g))\n",
    "\n",
    "\n"
   ]
  },
  {
   "cell_type": "markdown",
   "metadata": {},
   "source": [
    "## Have a look at df:"
   ]
  },
  {
   "cell_type": "markdown",
   "metadata": {},
   "source": [
    "## Which projects have been found?\n",
    "Some projects will not be found, typically because the EC's transparency database is updated with som\n",
    "At this date, We have on our watch list 6 projects belonging to 5GPPP's third phase that are not yet found on the transparency portal\n"
   ]
  },
  {
   "cell_type": "code",
   "execution_count": null,
   "metadata": {},
   "outputs": [],
   "source": [
    "print(\"Found\", len(df.index), \"out of \", len(projects5g))\n",
    "\n",
    "projects_yes_one = projects_yes_many = projects_no = 0\n",
    "\n",
    "for code in projects5g.keys():\n",
    "    #print((df[df['Subject'].str.contains(code)]['Subject']).count())\n",
    "    projectcount = (df[df['Subject'].str.contains(code)]['Subject']).count()\n",
    "    if (projectcount) == 1:\n",
    "        print('Found one match for project', code)\n",
    "        projects_yes_one +=1\n",
    "    elif (projectcount) >= 2:\n",
    "        print('Found', projectcount,'matches for project', code, 'will keep last one')\n",
    "        #print((df[df['Subject'].str.contains(code)]['Subject']).tail(-1))\n",
    "        print((df[df['Subject'].str.contains(code)]['Beneficiary']))\n",
    "        projects_yes_one +=1\n",
    "    else:\n",
    "        print('Project', code, 'Not found', projects5g[code])\n",
    "        projects_no +=1\n",
    "\n",
    "print(projects_yes_one, projects_yes_many, projects_no)"
   ]
  },
  {
   "cell_type": "code",
   "execution_count": null,
   "metadata": {},
   "outputs": [],
   "source": [
    "df.to_csv('5GAllProjects.csv')"
   ]
  },
  {
   "cell_type": "markdown",
   "metadata": {},
   "source": [
    "## Clean pesky commas"
   ]
  },
  {
   "cell_type": "code",
   "execution_count": null,
   "metadata": {},
   "outputs": [],
   "source": [
    "#print(df['Amounts'])\n",
    "df['Beneficiary']=df['Beneficiary'].str.replace(\",\",\" \")\n",
    "\n",
    "df['Subject']=df['Subject'].str.replace(\",\",\" \")\n",
    "df['Amounts']=df['Amounts'].str.replace(\",\",\"\")\n",
    "\n",
    "\n",
    "\n",
    "#df['Amounts']=df['Amounts'].str.replace(\".\",\"\")\n",
    "\n",
    "df.head()"
   ]
  },
  {
   "cell_type": "markdown",
   "metadata": {},
   "source": [
    "### Now expand each project line:"
   ]
  },
  {
   "cell_type": "code",
   "execution_count": null,
   "metadata": {},
   "outputs": [],
   "source": [
    "# Iterate each project-containing row :\n",
    "\n",
    "with open(\"5GAllSplit.csv\", \"w\") as f:\n",
    "     for index, row in df.iterrows():\n",
    "         for entity in (row['Beneficiary'].split(sep=\";\")):\n",
    "             i = (row['Beneficiary'].split(sep=\";\")).index(entity)\n",
    "             print (row['Year'], \n",
    "                    row['Subject'], \n",
    "                    entity , \n",
    "                    row['Country'].split(sep=\";\")[i],\n",
    "                    row['Amounts'].split(sep=\";\")[i], \n",
    "                    sep=', ',\n",
    "                    file=f\n",
    "                   )\n",
    "\n",
    "\n",
    "grouped = df['Amounts'].groupby(df['Country'])  \n",
    "\n",
    "for dtype, group in grouped:\n",
    "    print(dtype)\n",
    "    print(group)"
   ]
  },
  {
   "cell_type": "markdown",
   "metadata": {},
   "source": [
    "### Build a new df:"
   ]
  },
  {
   "cell_type": "code",
   "execution_count": null,
   "metadata": {},
   "outputs": [],
   "source": [
    "# Iterate each project-containing row :  \n",
    "for index, row in df.iterrows():\n",
    "    for entity in (row['Beneficiary'].split(sep=\";\")):\n",
    "        i = (row['Beneficiary'].split(sep=\";\")).index(entity)\n",
    "        print (#row['Year'], \n",
    "               #row['Subject'], \n",
    "               entity , \n",
    "               row['Country'].split(sep=\";\")[i],\n",
    "               row['Address'].split(sep=\";\")[i], \n",
    "               row['City'].split(sep=\";\")[i],\n",
    "               row['Postal Code'].split(sep=\";\")[i],\n",
    "               sep=', ',\n",
    "               file=open(\"web-entity-list.csv\", \"a\")\n",
    "              )\n",
    "       "
   ]
  },
  {
   "cell_type": "markdown",
   "metadata": {},
   "source": [
    "### Output to Excel:"
   ]
  },
  {
   "cell_type": "code",
   "execution_count": null,
   "metadata": {},
   "outputs": [],
   "source": [
    "#writer = dfin.ExcelWriter('output.xlsx', engine='xlsxwriter')\n",
    "\n",
    "# Convert the dataframe to an XlsxWriter Excel object.\n",
    "#dfin.to_excel(writer, sheet_name='Sheet1')\n",
    "\n",
    "# Close the Pandas Excel writer and output the Excel file.\n",
    "#writer.save()\n",
    "\n",
    "with ExcelWriter('path_to_file.xlsx') as writer:\n",
    "     dfin.to_excel(writer)"
   ]
  },
  {
   "cell_type": "markdown",
   "metadata": {},
   "source": [
    "# Abajo: Borrador"
   ]
  },
  {
   "cell_type": "code",
   "execution_count": null,
   "metadata": {},
   "outputs": [],
   "source": [
    "#df.drop(columns=['Type', 'Expense Type', 'Source', 'Funding Type', 'LE Code', 'NUTS2', 'LE Description', 'h23'])\n",
    "# take a peek if you want:\n",
    "#print(df.head(5))\n",
    "#df.info()\n",
    "#df.describe()\n",
    "#print(df['Beneficiary'])\n",
    "#print(df['h23'])\n",
    "#print(df['h23'].unique())\n"
   ]
  },
  {
   "cell_type": "code",
   "execution_count": null,
   "metadata": {},
   "outputs": [],
   "source": [
    "$e^(1/pi) + 1 = 0$"
   ]
  },
  {
   "cell_type": "code",
   "execution_count": null,
   "metadata": {},
   "outputs": [],
   "source": [
    "#print(len(df['VAT'][5]))\n",
    "\n",
    "#Basic check\n",
    "for index, row in df.iterrows():   \n",
    "    if (len(row['Beneficiary']) != len(row['Amounts'])):\n",
    "        print (index, row['Beneficiary'], row['Amounts']"
   ]
  }
 ],
 "metadata": {
  "kernelspec": {
   "display_name": "Python 3",
   "language": "python",
   "name": "python3"
  },
  "language_info": {
   "codemirror_mode": {
    "name": "ipython",
    "version": 3
   },
   "file_extension": ".py",
   "mimetype": "text/x-python",
   "name": "python",
   "nbconvert_exporter": "python",
   "pygments_lexer": "ipython3",
   "version": "3.7.4"
  }
 },
 "nbformat": 4,
 "nbformat_minor": 2
}
